{
 "cells": [
  {
   "cell_type": "code",
   "execution_count": 2,
   "metadata": {},
   "outputs": [],
   "source": [
    "import yt_dlp\n",
    "import time\n",
    "from datetime import datetime\n",
    "import os\n",
    "import shutil"
   ]
  },
  {
   "cell_type": "code",
   "execution_count": 6,
   "metadata": {},
   "outputs": [],
   "source": [
    "def move_files_by_ext(src_dir, dst_dir, exts=None):\n",
    "    # 检查源目录是否存在\n",
    "    if not os.path.exists(src_dir):\n",
    "        print(f\"源目录 {src_dir} 不存在\")\n",
    "        return\n",
    "\n",
    "    # 检查目标目录是否存在，不存在则创建\n",
    "    if not os.path.exists(dst_dir):\n",
    "        os.makedirs(dst_dir)\n",
    "\n",
    "    # 检查源目录是否为空\n",
    "    if not os.listdir(src_dir):\n",
    "        print(f\"源目录 {src_dir} 是空的\")\n",
    "        return\n",
    "\n",
    "    # 计数器，用于跟踪移动的文件数量\n",
    "    files_count = 0\n",
    "\n",
    "    # 移动源目录下的所有视频文件和字幕文件到目标目录\n",
    "    for filename in os.listdir(src_dir):\n",
    "        src_file = os.path.join(src_dir, filename)\n",
    "        dst_file = os.path.join(dst_dir, filename)\n",
    "\n",
    "        if os.path.isfile(src_file) and (not exts or any(filename.lower().endswith(ext) for ext in exts)):\n",
    "            shutil.move(src_file, dst_file)\n",
    "            print(f\"已移动 {src_file} 到 {dst_file}\")\n",
    "            files_count += 1\n",
    "\n",
    "    # 根据计数器的值打印相应的消息\n",
    "    if files_count > 0:\n",
    "        print(f\"{src_dir}, 目录下所有扩展名为: {exts}, 移动到 {dst_dir}, 共移动了 {files_count} 个文件.\")\n",
    "    else:\n",
    "        print(\"没有需要移动的文件\")"
   ]
  },
  {
   "cell_type": "code",
   "execution_count": null,
   "metadata": {},
   "outputs": [],
   "source": [
    "tmpdir = '/Volumes/Data/VideoTranslation/YouTubeDownloadTmp'  # 下载时保存路径\n",
    "okdir = '/Volumes/Data/VideoTranslation/YouTubeDownload'  # 下载完成移动到该目录\n",
    "downloaded = '/Volumes/Data/VideoTranslation/YouTubeDownload/downloaded.txt'  # 记录已下载视频的文件\n",
    "\n",
    "# 播放列表【破浪】\n",
    "playlist_url = \"https://www.youtube.com/playlist?list=PLxjtcx2z5_42QU_jjn1E9pX3YKTaxYFbD\"\n",
    "\n",
    "# 设置下载选项\n",
    "ydl_opts = {\n",
    "    'outtmpl': tmpdir + '/%(title)s.%(id)s.%(ext)s',  # 保存路径和文件名模板\n",
    "    'download_archive': downloaded,  # 记录已下载视频的文件\n",
    "    'format': 'bestvideo[height<=1080][ext=mp4]+bestaudio[ext=m4a]/best[height<=1080][ext=mp4]/best[height<=1080]',  # 下载最高质量的视频，不超过1080p，并确保格式为MP4\n",
    "    'merge_output_format': 'mp4',  # 合并下载的视频和音频为 mp4 格式\n",
    "    'postprocessors': [{\n",
    "        'key': 'FFmpegVideoConvertor',\n",
    "        'preferedformat': 'mp4'\n",
    "    }],  # 如果不是mp4 转换视频为 mp4 格式\n",
    "    'writesubtitles': True, # 下载字幕\n",
    "    'writeautomaticsub': False,  # 下载自动字幕\n",
    "    'subtitlesformat': 'srt',  # 指定字幕格式为 srt\n",
    "    'subtitleslangs': ['en', 'zh-Hans'],  # 下载英语和中文（简体）字幕\n",
    "    'postprocessors': [{  # 使用字幕转换后处理器将vtt字幕转换为srt格式\n",
    "        'key': 'FFmpegSubtitlesConvertor',\n",
    "        'format': 'srt',\n",
    "    }],\n",
    "    'continuedl': True,  # 继续下载未完成的文件\n",
    "    'ignoreerrors': True,  # 忽略下载错误，继续其他视频\n",
    "    'proxy': '127.0.0.1:7890',  # 设置代理地址\n",
    "}"
   ]
  },
  {
   "cell_type": "code",
   "execution_count": null,
   "metadata": {},
   "outputs": [],
   "source": [
    "while True:\n",
    "    # 打印当前时间\n",
    "    print(f\"Checking for new videos Download at {datetime.now().strftime('%Y-%m-%d %H:%M:%S')}\")\n",
    "    # 下载播放列表\n",
    "    with yt_dlp.YoutubeDL(ydl_opts) as ydl:\n",
    "        ydl.download([playlist_url])\n",
    "\n",
    "    # 睡一分钟再去检查是否有新的下载\n",
    "    time.sleep(60)\n",
    "\n",
    "    # 移动文件\n",
    "    move_files_by_ext(src_dir=tmpdir, dst_dir=okdir, exts=['.mp4', '.srt'])"
   ]
  }
 ],
 "metadata": {
  "kernelspec": {
   "display_name": "base",
   "language": "python",
   "name": "python3"
  },
  "language_info": {
   "codemirror_mode": {
    "name": "ipython",
    "version": 3
   },
   "file_extension": ".py",
   "mimetype": "text/x-python",
   "name": "python",
   "nbconvert_exporter": "python",
   "pygments_lexer": "ipython3",
   "version": "3.10.9"
  }
 },
 "nbformat": 4,
 "nbformat_minor": 2
}
