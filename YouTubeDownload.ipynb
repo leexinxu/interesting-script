{
 "cells": [
  {
   "cell_type": "code",
   "execution_count": 94,
   "metadata": {},
   "outputs": [],
   "source": [
    "import yt_dlp\n",
    "import time\n",
    "from datetime import datetime"
   ]
  },
  {
   "cell_type": "code",
   "execution_count": 89,
   "metadata": {},
   "outputs": [],
   "source": [
    "# 播放列表【破浪】\n",
    "playlist_url = \"https://www.youtube.com/playlist?list=PLxjtcx2z5_42QU_jjn1E9pX3YKTaxYFbD\"\n",
    "\n",
    "# 设置下载选项\n",
    "ydl_opts = {\n",
    "    'outtmpl': '/Volumes/Data/VideoTranslation/YouTubeDownload/%(title)s[%(id)s].%(ext)s',  # 保存路径和文件名模板\n",
    "    'download_archive': '/Volumes/Data/VideoTranslation/YouTubeDownload/downloaded.txt',  # 记录已下载视频的文件\n",
    "    'format': 'bestvideo[height<=720][ext=mp4]+bestaudio[ext=m4a]/best[height<=720][ext=mp4]/best[height<=720]',  # 下载最高质量的视频，不超过720p，并确保格式为MP4\n",
    "    'merge_output_format': 'mp4',  # 合并下载的视频和音频为 mp4 格式\n",
    "    'postprocessors': [{\n",
    "        'key': 'FFmpegVideoConvertor',\n",
    "        'preferedformat': 'mp4'\n",
    "    }],  # 如果不是mp4 转换视频为 mp4 格式\n",
    "    'writesubtitles': True, # 下载字幕\n",
    "    'writeautomaticsub': True,  # 下载自动字幕\n",
    "    'subtitlesformat': 'srt',  # 指定字幕格式为 srt\n",
    "    'subtitleslangs': ['en', 'zh-Hans'],  # 下载英语和中文（简体）字幕\n",
    "    'postprocessors': [{  # 使用字幕转换后处理器将vtt字幕转换为srt格式\n",
    "        'key': 'FFmpegSubtitlesConvertor',\n",
    "        'format': 'srt',\n",
    "    }],\n",
    "    'continuedl': True,  # 继续下载未完成的文件\n",
    "    'ignoreerrors': True,  # 忽略下载错误，继续其他视频\n",
    "    'proxy': '127.0.0.1:7890',  # 设置代理地址\n",
    "}"
   ]
  },
  {
   "cell_type": "code",
   "execution_count": 95,
   "metadata": {},
   "outputs": [
    {
     "name": "stdout",
     "output_type": "stream",
     "text": [
      "Checking for new videos Download at 2024-06-08 23:11:43\n",
      "[youtube:tab] Extracting URL: https://www.youtube.com/playlist?list=PLxjtcx2z5_42QU_jjn1E9pX3YKTaxYFbD\n",
      "[youtube:tab] PLxjtcx2z5_42QU_jjn1E9pX3YKTaxYFbD: Downloading webpage\n",
      "[youtube:tab] PLxjtcx2z5_42QU_jjn1E9pX3YKTaxYFbD: Redownloading playlist API JSON with unavailable videos\n",
      "[download] Downloading playlist: 破浪\n",
      "[youtube:tab] PLxjtcx2z5_42QU_jjn1E9pX3YKTaxYFbD page 1: Downloading API JSON\n"
     ]
    },
    {
     "name": "stderr",
     "output_type": "stream",
     "text": [
      "WARNING: [youtube:tab] Incomplete data received. Retrying (1/3)...\n"
     ]
    },
    {
     "name": "stdout",
     "output_type": "stream",
     "text": [
      "[youtube:tab] PLxjtcx2z5_42QU_jjn1E9pX3YKTaxYFbD page 1: Downloading API JSON\n"
     ]
    },
    {
     "name": "stderr",
     "output_type": "stream",
     "text": [
      "WARNING: [youtube:tab] Incomplete data received. Retrying (2/3)...\n"
     ]
    },
    {
     "name": "stdout",
     "output_type": "stream",
     "text": [
      "[youtube:tab] PLxjtcx2z5_42QU_jjn1E9pX3YKTaxYFbD page 1: Downloading API JSON\n"
     ]
    },
    {
     "name": "stderr",
     "output_type": "stream",
     "text": [
      "WARNING: [youtube:tab] Incomplete data received. Retrying (3/3)...\n"
     ]
    },
    {
     "name": "stdout",
     "output_type": "stream",
     "text": [
      "[youtube:tab] PLxjtcx2z5_42QU_jjn1E9pX3YKTaxYFbD page 1: Downloading API JSON\n"
     ]
    },
    {
     "name": "stderr",
     "output_type": "stream",
     "text": [
      "WARNING: [youtube:tab] Incomplete data received. Giving up after 3 retries\n"
     ]
    },
    {
     "name": "stdout",
     "output_type": "stream",
     "text": [
      "[youtube:tab] Playlist 破浪: Downloading 3 items of 3\n",
      "[download] TsKHjFeonRE: The ARM chip race is getting wild… Apple M4 unveiled has already been recorded in the archive\n",
      "[download] 88arA6ULvnE: Elon Musk defiantly defends himself in Tesla tweet trial insisting he could have pulled the deal off has already been recorded in the archive\n",
      "[download] PznJqxon4zE: Steve Jobs passion in work has already been recorded in the archive\n",
      "[download] Finished downloading playlist: 破浪\n"
     ]
    }
   ],
   "source": [
    "while True:\n",
    "    # 打印当前时间\n",
    "    print(f\"Checking for new videos Download at {datetime.now().strftime('%Y-%m-%d %H:%M:%S')}\")\n",
    "    # 下载播放列表\n",
    "    with yt_dlp.YoutubeDL(ydl_opts) as ydl:\n",
    "        ydl.download([playlist_url])\n",
    "    # 睡一分钟再去检查是否有新的下载\n",
    "    time.sleep(60)"
   ]
  }
 ],
 "metadata": {
  "kernelspec": {
   "display_name": "base",
   "language": "python",
   "name": "python3"
  },
  "language_info": {
   "codemirror_mode": {
    "name": "ipython",
    "version": 3
   },
   "file_extension": ".py",
   "mimetype": "text/x-python",
   "name": "python",
   "nbconvert_exporter": "python",
   "pygments_lexer": "ipython3",
   "version": "3.1.-1"
  }
 },
 "nbformat": 4,
 "nbformat_minor": 2
}
