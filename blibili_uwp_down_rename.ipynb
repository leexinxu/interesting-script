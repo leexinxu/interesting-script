{
 "cells": [
  {
   "cell_type": "markdown",
   "metadata": {},
   "source": [
    "### B站下载的剧集重命名为正确的命名"
   ]
  },
  {
   "cell_type": "code",
   "execution_count": null,
   "metadata": {},
   "outputs": [],
   "source": [
    "import json\n",
    "import os"
   ]
  },
  {
   "cell_type": "code",
   "execution_count": null,
   "metadata": {},
   "outputs": [],
   "source": [
    "# 剧集数\n",
    "episode_num = 110\n",
    "\n",
    "# 剧集文件夹名\n",
    "episode_folder = \"798138961\"\n",
    "\n",
    "for i in range(episode_num):\n",
    "    with open( episode_folder+\"/\"+str(i+1)+\"/\"+episode_folder+\".info\", \"r\", encoding=\"utf-8\" ) as load_f:\n",
    "        load_episode_info = json.load(load_f)\n",
    "        #print(load_episode_info[\"PartName\"])\n",
    "        \n",
    "        episode_name = episode_folder+\"/\"+str(i+1)+\"/\"+episode_folder+\"_\"+str(i+1)+\"_0.mp4\"\n",
    "        re_episode_name = episode_folder+\"/\"+str(i+1)+\"/\"+load_episode_info[\"PartNo\"]+\"_\"+load_episode_info[\"PartName\"]+\".mp4\"\n",
    "        \n",
    "        try:\n",
    "            os.rename(episode_name, re_episode_name)\n",
    "            \n",
    "            #print(\"第\"+load_episode_info[\"PartNo\"]+\"集，重命名成功\")\n",
    "        except Exception as e:\n",
    "            print(e)\n",
    "            print(\"rename file fail\\n\"+episode_name+\"\\n\")\n",
    "        "
   ]
  },
  {
   "cell_type": "code",
   "execution_count": null,
   "metadata": {},
   "outputs": [],
   "source": []
  }
 ],
 "metadata": {
  "kernelspec": {
   "display_name": "Python 3",
   "language": "python",
   "name": "python3"
  },
  "language_info": {
   "codemirror_mode": {
    "name": "ipython",
    "version": 3
   },
   "file_extension": ".py",
   "mimetype": "text/x-python",
   "name": "python",
   "nbconvert_exporter": "python",
   "pygments_lexer": "ipython3",
   "version": "3.6.4"
  }
 },
 "nbformat": 4,
 "nbformat_minor": 2
}
