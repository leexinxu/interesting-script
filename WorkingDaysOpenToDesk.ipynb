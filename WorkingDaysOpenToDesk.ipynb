{
 "cells": [
  {
   "cell_type": "code",
   "execution_count": 1,
   "metadata": {},
   "outputs": [],
   "source": [
    "import schedule\n",
    "import time\n",
    "import subprocess\n",
    "import os\n",
    "from datetime import datetime\n",
    "import chinese_calendar"
   ]
  },
  {
   "cell_type": "code",
   "execution_count": 5,
   "metadata": {},
   "outputs": [],
   "source": [
    "def is_todesk_running():\n",
    "    import psutil\n",
    "    \"\"\"检查ToDesk是否正在运行\"\"\"\n",
    "    for proc in psutil.process_iter(['pid', 'name', 'status']):\n",
    "        #print(f'{datetime.now()} - ToDesk Running proc = {proc.info}')\n",
    "        if proc.info['name'] == 'ToDesk' and proc.info['status'] == psutil.STATUS_RUNNING:\n",
    "            print(f'{datetime.now()} - ToDesk Running')\n",
    "            return True\n",
    "    print(f'{datetime.now()} - ToDesk Not Running')\n",
    "    return False"
   ]
  },
  {
   "cell_type": "code",
   "execution_count": 7,
   "metadata": {},
   "outputs": [],
   "source": [
    "def start_todesk():\n",
    "    \"\"\"启动ToDesk应用\"\"\"\n",
    "    print(f'{datetime.now()} - ToDesk start...')\n",
    "    if not is_todesk_running():\n",
    "        subprocess.Popen([\"/Applications/ToDesk.app/Contents/MacOS/ToDesk\"])\n",
    "        print(f'{datetime.now()} - ToDesk started')\n",
    "\n",
    "def stop_todesk():\n",
    "    \"\"\"关闭ToDesk应用\"\"\"\n",
    "    print(f'{datetime.now()} - ToDesk stop...')\n",
    "    if is_todesk_running():\n",
    "        os.system(\"pkill -f ToDesk\")\n",
    "        print(f'{datetime.now()} - ToDesk stopped')"
   ]
  },
  {
   "cell_type": "code",
   "execution_count": 11,
   "metadata": {},
   "outputs": [],
   "source": [
    "def is_workday(date):\n",
    "    \"\"\"判断给定日期是否为工作日\"\"\"\n",
    "    return chinese_calendar.is_workday(date)"
   ]
  },
  {
   "cell_type": "code",
   "execution_count": 19,
   "metadata": {},
   "outputs": [
    {
     "name": "stdout",
     "output_type": "stream",
     "text": [
      "2024-09-14 是工作日\n"
     ]
    }
   ],
   "source": [
    "# 创建一个特定日期\n",
    "test_date = datetime(2024, 9, 14)\n",
    "\n",
    "# 检查该日期是否为工作日\n",
    "if is_workday(test_date):\n",
    "    print(f\"{test_date.date()} 是工作日\")\n",
    "else:\n",
    "    print(f\"{test_date.date()} 不是工作日\")"
   ]
  },
  {
   "cell_type": "code",
   "execution_count": 12,
   "metadata": {},
   "outputs": [],
   "source": [
    "def job():\n",
    "    now = datetime.now()\n",
    "    current_hour = now.hour\n",
    "    current_weekday = now.weekday()\n",
    "    # 打印当前时间、小时和星期几\n",
    "    print(f'job() Run: Current time: {now}, Hour: {current_hour}, Weekday: {current_weekday}')\n",
    "    # 检查是否在工作日和指定时间范围内\n",
    "    if is_workday(now) and 7 <= current_hour < 19:\n",
    "        start_todesk()\n",
    "    else:\n",
    "        stop_todesk()"
   ]
  },
  {
   "cell_type": "code",
   "execution_count": 13,
   "metadata": {},
   "outputs": [
    {
     "name": "stdout",
     "output_type": "stream",
     "text": [
      "job() Run: Current time: 2024-06-08 15:52:57.452810, Hour: 15, Weekday: 5\n",
      "2024-06-08 15:52:57.452902 - ToDesk stop...\n",
      "2024-06-08 15:52:57.480543 - ToDesk Not Running\n"
     ]
    }
   ],
   "source": [
    "job()"
   ]
  },
  {
   "cell_type": "code",
   "execution_count": 20,
   "metadata": {},
   "outputs": [
    {
     "data": {
      "text/plain": [
       "Every 10 minutes do job() (last run: [never], next run: 2024-06-08 16:09:00)"
      ]
     },
     "execution_count": 20,
     "metadata": {},
     "output_type": "execute_result"
    }
   ],
   "source": [
    "# 安排任务每10分钟调度一次job函数\n",
    "schedule.every(10).minutes.do(job)"
   ]
  },
  {
   "cell_type": "code",
   "execution_count": 21,
   "metadata": {},
   "outputs": [
    {
     "ename": "KeyboardInterrupt",
     "evalue": "",
     "output_type": "error",
     "traceback": [
      "\u001b[0;31m---------------------------------------------------------------------------\u001b[0m",
      "\u001b[0;31mKeyboardInterrupt\u001b[0m                         Traceback (most recent call last)",
      "Cell \u001b[0;32mIn[21], line 4\u001b[0m\n\u001b[1;32m      1\u001b[0m \u001b[38;5;28;01mwhile\u001b[39;00m \u001b[38;5;28;01mTrue\u001b[39;00m:\n\u001b[1;32m      2\u001b[0m     \u001b[38;5;66;03m# 每分钟检查一次是否有任务调度\u001b[39;00m\n\u001b[1;32m      3\u001b[0m     schedule\u001b[38;5;241m.\u001b[39mrun_pending()\n\u001b[0;32m----> 4\u001b[0m     \u001b[43mtime\u001b[49m\u001b[38;5;241;43m.\u001b[39;49m\u001b[43msleep\u001b[49m\u001b[43m(\u001b[49m\u001b[38;5;241;43m60\u001b[39;49m\u001b[43m)\u001b[49m\n",
      "\u001b[0;31mKeyboardInterrupt\u001b[0m: "
     ]
    }
   ],
   "source": [
    "while True:\n",
    "    # 每分钟检查一次是否有任务调度\n",
    "    schedule.run_pending()\n",
    "    time.sleep(60)"
   ]
  }
 ],
 "metadata": {
  "kernelspec": {
   "display_name": "base",
   "language": "python",
   "name": "python3"
  },
  "language_info": {
   "codemirror_mode": {
    "name": "ipython",
    "version": 3
   },
   "file_extension": ".py",
   "mimetype": "text/x-python",
   "name": "python",
   "nbconvert_exporter": "python",
   "pygments_lexer": "ipython3",
   "version": "3.10.9"
  }
 },
 "nbformat": 4,
 "nbformat_minor": 2
}
