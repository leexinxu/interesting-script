{
 "cells": [
  {
   "cell_type": "code",
   "execution_count": null,
   "metadata": {},
   "outputs": [],
   "source": [
    "import schedule\n",
    "import time\n",
    "import subprocess\n",
    "import os\n",
    "from datetime import datetime\n",
    "import chinese_calendar"
   ]
  },
  {
   "cell_type": "code",
   "execution_count": null,
   "metadata": {},
   "outputs": [],
   "source": [
    "def is_todesk_running():\n",
    "    import psutil\n",
    "    \"\"\"检查ToDesk是否正在运行\"\"\"\n",
    "    for proc in psutil.process_iter(['pid', 'name', 'status']):\n",
    "        #print(f'{datetime.now()} - ToDesk Running proc = {proc.info}')\n",
    "        if proc.info['name'] == 'ToDesk' and proc.info['status'] == psutil.STATUS_RUNNING:\n",
    "            print(f'{datetime.now()} - ToDesk Running')\n",
    "            return True\n",
    "    print(f'{datetime.now()} - ToDesk Not Running')\n",
    "    return False"
   ]
  },
  {
   "cell_type": "code",
   "execution_count": null,
   "metadata": {},
   "outputs": [],
   "source": [
    "def start_todesk():\n",
    "    \"\"\"启动ToDesk应用\"\"\"\n",
    "    print(f'{datetime.now()} - ToDesk start...')\n",
    "    if not is_todesk_running():\n",
    "        subprocess.Popen([\"/Applications/ToDesk.app/Contents/MacOS/ToDesk\"])\n",
    "        print(f'{datetime.now()} - ToDesk started')\n",
    "\n",
    "def stop_todesk():\n",
    "    \"\"\"关闭ToDesk应用\"\"\"\n",
    "    print(f'{datetime.now()} - ToDesk stop...')\n",
    "    if is_todesk_running():\n",
    "        os.system(\"pkill -f ToDesk\")\n",
    "        print(f'{datetime.now()} - ToDesk stopped')"
   ]
  },
  {
   "cell_type": "code",
   "execution_count": null,
   "metadata": {},
   "outputs": [],
   "source": [
    "def is_workday(date):\n",
    "    \"\"\"判断给定日期是否为工作日\"\"\"\n",
    "    return chinese_calendar.is_workday(date)"
   ]
  },
  {
   "cell_type": "code",
   "execution_count": null,
   "metadata": {},
   "outputs": [],
   "source": [
    "def job():\n",
    "    now = datetime.now()\n",
    "    current_hour = now.hour\n",
    "    current_weekday = now.weekday()\n",
    "    # 打印当前时间、小时和星期几\n",
    "    print(f'job() Run: Current time: {now}, Hour: {current_hour}, Weekday: {current_weekday}')\n",
    "    # 检查是否在工作日和指定时间范围内\n",
    "    if is_workday(now) and 7 <= current_hour < 19:\n",
    "        start_todesk()\n",
    "    else:\n",
    "        stop_todesk()"
   ]
  },
  {
   "cell_type": "code",
   "execution_count": null,
   "metadata": {},
   "outputs": [],
   "source": [
    "while True:\n",
    "    # 每10分钟调度一次job函数\n",
    "    job()\n",
    "    time.sleep(600)"
   ]
  }
 ],
 "metadata": {
  "kernelspec": {
   "display_name": "base",
   "language": "python",
   "name": "python3"
  },
  "language_info": {
   "codemirror_mode": {
    "name": "ipython",
    "version": 3
   },
   "file_extension": ".py",
   "mimetype": "text/x-python",
   "name": "python",
   "nbconvert_exporter": "python",
   "pygments_lexer": "ipython3",
   "version": "3.10.9"
  }
 },
 "nbformat": 4,
 "nbformat_minor": 2
}
