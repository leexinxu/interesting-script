{
 "cells": [
  {
   "cell_type": "code",
   "execution_count": null,
   "metadata": {},
   "outputs": [],
   "source": [
    "import yt_dlp"
   ]
  },
  {
   "cell_type": "code",
   "execution_count": null,
   "metadata": {},
   "outputs": [],
   "source": [
    "video_dir = 'video'  # 下载时保存路径\n",
    "downloaded = 'video/downloaded.txt'  # 记录已下载视频的文件\n",
    "\n",
    "# 设置下载选项\n",
    "ydl_opts = {\n",
    "    'outtmpl': video_dir + '/%(title)s.%(id)s.%(ext)s',  # 保存路径和文件名模板\n",
    "    'download_archive': downloaded,  # 记录已下载视频的文件\n",
    "    'format': 'bestvideo[height<=1080][ext=mp4]+bestaudio[ext=m4a]/best[height<=1080][ext=mp4]/best[height<=1080]',  # 下载最高质量的视频，不超过1080p，并确保格式为MP4\n",
    "    'merge_output_format': 'mp4',  # 合并下载的视频和音频为 mp4 格式\n",
    "    'postprocessors': [{\n",
    "        'key': 'FFmpegVideoConvertor',\n",
    "        'preferedformat': 'mp4'\n",
    "    }],  # 如果不是mp4 转换视频为 mp4 格式\n",
    "    'writesubtitles': True, # 下载字幕\n",
    "    'writeautomaticsub': False,  # 下载自动字幕\n",
    "    'subtitlesformat': 'srt',  # 指定字幕格式为 srt\n",
    "    'subtitleslangs': ['en', 'zh-Hans'],  # 下载英语和中文（简体）字幕\n",
    "    'postprocessors': [{  # 使用字幕转换后处理器将vtt字幕转换为srt格式\n",
    "        'key': 'FFmpegSubtitlesConvertor',\n",
    "        'format': 'srt',\n",
    "    }],\n",
    "    'continuedl': True,  # 继续下载未完成的文件\n",
    "    'ignoreerrors': True,  # 忽略下载错误，继续其他视频\n",
    "    #'proxy': '127.0.0.1:7890',  # 设置代理地址\n",
    "}"
   ]
  },
  {
   "cell_type": "code",
   "execution_count": null,
   "metadata": {},
   "outputs": [],
   "source": [
    "video_url = \"https://www.bilibili.com/list/ml136498038\""
   ]
  },
  {
   "cell_type": "code",
   "execution_count": null,
   "metadata": {},
   "outputs": [],
   "source": [
    "with yt_dlp.YoutubeDL(ydl_opts) as ydl:\n",
    "    ydl.download([video_url])"
   ]
  }
 ],
 "metadata": {
  "kernelspec": {
   "display_name": "base",
   "language": "python",
   "name": "python3"
  },
  "language_info": {
   "codemirror_mode": {
    "name": "ipython",
    "version": 3
   },
   "file_extension": ".py",
   "mimetype": "text/x-python",
   "name": "python",
   "nbconvert_exporter": "python",
   "pygments_lexer": "ipython3",
   "version": "3.10.9"
  }
 },
 "nbformat": 4,
 "nbformat_minor": 2
}
