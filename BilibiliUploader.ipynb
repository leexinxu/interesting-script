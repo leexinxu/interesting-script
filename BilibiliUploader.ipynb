{
 "cells": [
  {
   "cell_type": "code",
   "execution_count": null,
   "metadata": {},
   "outputs": [],
   "source": [
    "from biliup.plugins.bili_webup import BiliBili, Data\n",
    "import os\n",
    "from datetime import datetime\n",
    "import glob\n",
    "import shutil\n",
    "import time"
   ]
  },
  {
   "cell_type": "code",
   "execution_count": null,
   "metadata": {},
   "outputs": [],
   "source": [
    "def log(message):\n",
    "    current_time = datetime.now().strftime('%Y-%m-%d %H:%M:%S')\n",
    "    print(f\"{current_time} - {message}\")"
   ]
  },
  {
   "cell_type": "code",
   "execution_count": null,
   "metadata": {},
   "outputs": [],
   "source": [
    "def find_chinese_subbed_videos(base_folder):\n",
    "    file_list = []\n",
    "    \n",
    "    # 遍历第一层文件夹\n",
    "    for root, dirs, files in os.walk(base_folder):\n",
    "        # 查找当前目录下符合模式的文件\n",
    "        for file in glob.glob(os.path.join(root, '【中配】*.mp4')):\n",
    "            file_list.append(os.path.abspath(file))\n",
    "        \n",
    "        # 遍历第二层文件夹\n",
    "        for sub_dir in dirs:\n",
    "            sub_dir_path = os.path.join(root, sub_dir)\n",
    "            for file in glob.glob(os.path.join(sub_dir_path, '【中配】*.mp4')):\n",
    "                file_list.append(os.path.abspath(file))\n",
    "        \n",
    "        # 只遍历两级，跳过子目录的子目录\n",
    "        break\n",
    "    \n",
    "    return file_list"
   ]
  },
  {
   "cell_type": "code",
   "execution_count": null,
   "metadata": {},
   "outputs": [],
   "source": [
    "def move_folder(src_folder, dst_dir):\n",
    "    try:\n",
    "        # 创建目标目录（如果不存在）\n",
    "        if not os.path.exists(dst_dir):\n",
    "            os.makedirs(dst_dir)\n",
    "        \n",
    "        # 移动文件夹\n",
    "        shutil.move(src_folder, os.path.join(dst_dir, os.path.basename(src_folder)))\n",
    "        log(f\"Moved: {src_folder} to {dst_dir}\")\n",
    "    except Exception as e:\n",
    "        log(f\"Error moving folder {src_folder}: {e}\")"
   ]
  },
  {
   "cell_type": "code",
   "execution_count": null,
   "metadata": {},
   "outputs": [],
   "source": [
    "def upload(filepath, cookies):\n",
    "    if not os.path.exists(filepath):\n",
    "        print(f'{filepath} not exists')\n",
    "        return\n",
    "\n",
    "    # 获取文件名, 文件名示例：【中配】人工智能【AI】\n",
    "    filename = os.path.splitext(os.path.basename(filepath))[0]\n",
    "\n",
    "    # 截取到最后一个 '【' 之前的内容\n",
    "    title_part = filename[:filename.rfind('【')].strip()\n",
    "    # 确保长度不超过80个字符\n",
    "    max_length = 80\n",
    "    if len(title_part) > max_length:\n",
    "        title_part = title_part[:max_length].rsplit(' ', 1)[0]\n",
    "\n",
    "    video = Data()\n",
    "    video.title = title_part\n",
    "    video.desc = filename[filename.rfind('【'):]\n",
    "    #video.source = \"破浪\"\n",
    "    # 设置视频分区,122野生技能协会\n",
    "    video.tid = 122\n",
    "    video.set_tag(['破浪', '科技', '未来', 'AI', '人工智能', 'AGI'])\n",
    "\n",
    "    with BiliBili(video) as bili:\n",
    "        bili.login_by_cookies(cookie=cookies)\n",
    "\n",
    "        video_part = bili.upload_file(filepath=filepath)  # 上传视频\n",
    "\n",
    "        # 防止报标题超过80字符的错误\n",
    "        video_part['title'] = title_part\n",
    "        print(f'{video_part=}')\n",
    "\n",
    "        video.append(video_part)  # 添加已经上传的视频\n",
    "\n",
    "        #video.cover = bili.cover_up('/cover_path').replace('http:', '')\n",
    "        \n",
    "        ret = bili.submit(submit_api='web')  # 提交视频\n",
    "        print(f'{ret=}')"
   ]
  },
  {
   "cell_type": "code",
   "execution_count": null,
   "metadata": {},
   "outputs": [],
   "source": [
    "cookies = {\n",
    "    'SESSDATA': 'f3fcfcf7,1733529039,ad1ea*61CjDDEelwr9JIeM99tZouwySvYaDbFGC-8Rpa-UkVxlTXb-QjZkZc4wewrI6TYZeopwMSVmlUb3J6N1lGS3h5YmdtMDdIX3lnRFFSOXNNd2pqSWVYZmV0LXp5dzRYa0VrTEgxTlVpUzhRVjQwQ21HMjFxNW5yWUplM1ZVekFBLTNJNWlncnZubUhnIIEC',\n",
    "    'bili_jct': '8b12cd2116875005ad57ea3af6362e96',\n",
    "    'sid': '5xbu4ygu',\n",
    "    \n",
    "    'DedeUserID': '3546691640756518',\n",
    "    'DedeUserID__ckMd5': 'd0df0ac5cb88bd0e',\n",
    "}"
   ]
  },
  {
   "cell_type": "code",
   "execution_count": null,
   "metadata": {},
   "outputs": [],
   "source": [
    "# 每分钟检查一下是否有新翻译完成的视频，如果有，则上传B站\n",
    "def check_trans_completed_up(src_dir, dst_dir):\n",
    "    log(\"******* Start Auto Video Bilibili Uploader *******\")\n",
    "    while True:\n",
    "        log(\"Checking for new videos...\")\n",
    "        # 获取目录中两级的【中配】*.mp4文件\n",
    "        mp4_files = find_chinese_subbed_videos(src_dir)\n",
    "        log(f\"Get new videos : {len(mp4_files)}\")\n",
    "        for mp4_file in mp4_files:\n",
    "            # 上传视频到B站\n",
    "            upload(mp4_file, cookies)\n",
    "            \n",
    "            # 上传完移动文件夹到TranslationCompletedUploadBilibiliMove\n",
    "            move_folder(os.path.dirname(mp4_file), dst_dir)\n",
    "\n",
    "        # 等待 60 秒再检查\n",
    "        log(\"Waiting for 60 seconds before next check...\")\n",
    "        time.sleep(60)"
   ]
  },
  {
   "cell_type": "code",
   "execution_count": null,
   "metadata": {},
   "outputs": [],
   "source": [
    "# 启动自动视频翻译系统\n",
    "source_directory = '/Volumes/Data/VideoTranslation/TranslationCompleted'\n",
    "destination_directory = '/Volumes/Data/VideoTranslation/TranslationCompletedUploadBilibiliMove'\n",
    "check_trans_completed_up(source_directory, destination_directory)"
   ]
  }
 ],
 "metadata": {
  "kernelspec": {
   "display_name": "base",
   "language": "python",
   "name": "python3"
  },
  "language_info": {
   "codemirror_mode": {
    "name": "ipython",
    "version": 3
   },
   "file_extension": ".py",
   "mimetype": "text/x-python",
   "name": "python",
   "nbconvert_exporter": "python",
   "pygments_lexer": "ipython3",
   "version": "3.1.-1"
  }
 },
 "nbformat": 4,
 "nbformat_minor": 2
}
